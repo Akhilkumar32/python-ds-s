{
 "cells": [
  {
   "cell_type": "code",
   "execution_count": 7,
   "id": "0364c1e0",
   "metadata": {},
   "outputs": [
    {
     "name": "stdout",
     "output_type": "stream",
     "text": [
      "10\n",
      "None\n",
      "None\n"
     ]
    }
   ],
   "source": [
    "class tree:                                     #CREATING AN EMPTY TREE\n",
    "    def __init__(self,key):\n",
    "        self.key=key\n",
    "        self.Rchild=None\n",
    "        self.Lchild=None\n",
    "        \n",
    "root=tree(10)\n",
    "print(root.key)\n",
    "print(root.Rchild)\n",
    "print(root.Lchild)\n",
    "        \n",
    "\n",
    "        "
   ]
  },
  {
   "cell_type": "code",
   "execution_count": 8,
   "id": "2dcfa145",
   "metadata": {},
   "outputs": [
    {
     "name": "stdout",
     "output_type": "stream",
     "text": [
      "10\n",
      "None\n",
      "None\n",
      "5\n",
      "None\n",
      "None\n",
      "15\n",
      "None\n",
      "None\n"
     ]
    }
   ],
   "source": [
    "class tree:                                     #CREATING AN TREE with no objects in it\n",
    "    def __init__(self,key):\n",
    "        self.key=key\n",
    "        self.Rchild=None\n",
    "        self.Lchild=None\n",
    "        \n",
    "root=tree(10)\n",
    "print(root.key)\n",
    "print(root.Rchild)\n",
    "print(root.Lchild)\n",
    "\n",
    "\n",
    "root.Lchild=tree(5)\n",
    "print(root.Lchild.key)\n",
    "print(root.Lchild.Lchild)\n",
    "print(root.Lchild.Rchild)\n",
    "\n",
    "root.Rchild=tree(15)\n",
    "print(root.Rchild.key)\n",
    "print(root.Rchild.Lchild)\n",
    "print(root.Rchild.Rchild)\n"
   ]
  },
  {
   "cell_type": "markdown",
   "id": "8303d1e9",
   "metadata": {},
   "source": [
    "# inserting new node to empty tree\n"
   ]
  },
  {
   "cell_type": "code",
   "execution_count": 9,
   "id": "3df2d76a",
   "metadata": {},
   "outputs": [],
   "source": [
    "#USING \"INSERTION OPERATION\"\n",
    "#CONDITIONS ARE\n",
    "#1 CHECK WHETHER TREE IS EMPTY OR NOT\n",
    "#2 IF TREE IS COMPLETELY EMPTY , INSERTED NODE WILL BECOME THE FIRST NODE\n",
    "#3 IF TREE IS NOT EMPTY(CONSISTS ALREADY SOME NODE),WE NEED TO FIND THE POSITION OF NEW NODE\n",
    "#4 POSITIONING MEANS \"INSERTING NEW NODE EITHER LEFT SUBTREE OR RIGHT SUBTREE\"\n"
   ]
  },
  {
   "cell_type": "markdown",
   "id": "7351da21",
   "metadata": {},
   "source": [
    "# when you want to insert node in left subtree"
   ]
  },
  {
   "cell_type": "code",
   "execution_count": null,
   "id": "85f583ac",
   "metadata": {},
   "outputs": [],
   "source": [
    "#check whether left subtree is EMPTY OR NOT EMPTY\n",
    "\n",
    "\n",
    "#if data of the new node is < the root node key, we need to place new node in left subtree"
   ]
  },
  {
   "cell_type": "code",
   "execution_count": 16,
   "id": "4ba9458b",
   "metadata": {},
   "outputs": [
    {
     "ename": "AttributeError",
     "evalue": "'NoneType' object has no attribute 'append'",
     "output_type": "error",
     "traceback": [
      "\u001b[1;31m---------------------------------------------------------------------------\u001b[0m",
      "\u001b[1;31mAttributeError\u001b[0m                            Traceback (most recent call last)",
      "\u001b[1;32m~\\AppData\\Local\\Temp/ipykernel_11728/3769799312.py\u001b[0m in \u001b[0;36m<module>\u001b[1;34m\u001b[0m\n\u001b[0;32m     31\u001b[0m     \u001b[0mroot\u001b[0m\u001b[1;33m.\u001b[0m\u001b[0madd_child\u001b[0m\u001b[1;33m(\u001b[0m\u001b[1;34m\"machines\"\u001b[0m\u001b[1;33m)\u001b[0m\u001b[1;33m\u001b[0m\u001b[1;33m\u001b[0m\u001b[0m\n\u001b[0;32m     32\u001b[0m \u001b[1;33m\u001b[0m\u001b[0m\n\u001b[1;32m---> 33\u001b[1;33m \u001b[0mbuildTree\u001b[0m\u001b[1;33m(\u001b[0m\u001b[1;33m)\u001b[0m\u001b[1;33m\u001b[0m\u001b[1;33m\u001b[0m\u001b[0m\n\u001b[0m\u001b[0;32m     34\u001b[0m \u001b[1;33m\u001b[0m\u001b[0m\n\u001b[0;32m     35\u001b[0m \u001b[1;33m\u001b[0m\u001b[0m\n",
      "\u001b[1;32m~\\AppData\\Local\\Temp/ipykernel_11728/3769799312.py\u001b[0m in \u001b[0;36mbuildTree\u001b[1;34m()\u001b[0m\n\u001b[0;32m     18\u001b[0m \u001b[1;33m\u001b[0m\u001b[0m\n\u001b[0;32m     19\u001b[0m     \u001b[0mpowersystems\u001b[0m\u001b[1;33m=\u001b[0m\u001b[0mtreeNode\u001b[0m\u001b[1;33m(\u001b[0m\u001b[1;34m\"powersystems\"\u001b[0m\u001b[1;33m)\u001b[0m\u001b[1;33m\u001b[0m\u001b[1;33m\u001b[0m\u001b[0m\n\u001b[1;32m---> 20\u001b[1;33m     \u001b[0mpowersystems\u001b[0m\u001b[1;33m.\u001b[0m\u001b[0madd_child\u001b[0m\u001b[1;33m(\u001b[0m\u001b[0mtreeNode\u001b[0m\u001b[1;33m(\u001b[0m\u001b[1;34m\"generation\"\u001b[0m\u001b[1;33m)\u001b[0m\u001b[1;33m)\u001b[0m\u001b[1;33m\u001b[0m\u001b[1;33m\u001b[0m\u001b[0m\n\u001b[0m\u001b[0;32m     21\u001b[0m     \u001b[0mpowersystems\u001b[0m\u001b[1;33m.\u001b[0m\u001b[0madd_child\u001b[0m\u001b[1;33m(\u001b[0m\u001b[0mtreeNode\u001b[0m\u001b[1;33m(\u001b[0m\u001b[1;34m\"transmission\"\u001b[0m\u001b[1;33m)\u001b[0m\u001b[1;33m)\u001b[0m\u001b[1;33m\u001b[0m\u001b[1;33m\u001b[0m\u001b[0m\n\u001b[0;32m     22\u001b[0m     \u001b[0mpowersystems\u001b[0m\u001b[1;33m.\u001b[0m\u001b[0madd_child\u001b[0m\u001b[1;33m(\u001b[0m\u001b[0mtreeNode\u001b[0m\u001b[1;33m(\u001b[0m\u001b[1;34m\"distribution\"\u001b[0m\u001b[1;33m)\u001b[0m\u001b[1;33m)\u001b[0m\u001b[1;33m\u001b[0m\u001b[1;33m\u001b[0m\u001b[0m\n",
      "\u001b[1;32m~\\AppData\\Local\\Temp/ipykernel_11728/3769799312.py\u001b[0m in \u001b[0;36madd_child\u001b[1;34m(self, child)\u001b[0m\n\u001b[0;32m     11\u001b[0m     \u001b[1;32mdef\u001b[0m \u001b[0madd_child\u001b[0m\u001b[1;33m(\u001b[0m\u001b[0mself\u001b[0m\u001b[1;33m,\u001b[0m\u001b[0mchild\u001b[0m\u001b[1;33m)\u001b[0m\u001b[1;33m:\u001b[0m\u001b[1;33m\u001b[0m\u001b[1;33m\u001b[0m\u001b[0m\n\u001b[0;32m     12\u001b[0m         \u001b[0mchild\u001b[0m\u001b[1;33m.\u001b[0m\u001b[0mparent\u001b[0m\u001b[1;33m=\u001b[0m\u001b[0mself\u001b[0m\u001b[1;33m\u001b[0m\u001b[1;33m\u001b[0m\u001b[0m\n\u001b[1;32m---> 13\u001b[1;33m         \u001b[0mself\u001b[0m\u001b[1;33m.\u001b[0m\u001b[0mchildren\u001b[0m\u001b[1;33m.\u001b[0m\u001b[0mappend\u001b[0m\u001b[1;33m(\u001b[0m\u001b[0mchild\u001b[0m\u001b[1;33m)\u001b[0m\u001b[1;33m\u001b[0m\u001b[1;33m\u001b[0m\u001b[0m\n\u001b[0m\u001b[0;32m     14\u001b[0m \u001b[1;33m\u001b[0m\u001b[0m\n\u001b[0;32m     15\u001b[0m \u001b[1;33m\u001b[0m\u001b[0m\n",
      "\u001b[1;31mAttributeError\u001b[0m: 'NoneType' object has no attribute 'append'"
     ]
    }
   ],
   "source": [
    "class treeNode:                                     \n",
    "    def __init__(self,data):\n",
    "        self.data=data\n",
    "        self.children=None\n",
    "        self.parent=None\n",
    "        \n",
    "    def print_tree(self):\n",
    "        spaces=\"\"\n",
    "        \n",
    "    \n",
    "    def add_child(self,child):\n",
    "        child.parent=self\n",
    "        self.children.append(child)\n",
    "    \n",
    "    \n",
    "def buildTree():\n",
    "    root=treeNode(\"electrical\")\n",
    "    \n",
    "    powersystems=treeNode(\"powersystems\")\n",
    "    powersystems.add_child(treeNode(\"generation\"))\n",
    "    powersystems.add_child(treeNode(\"transmission\"))\n",
    "    powersystems.add_child(treeNode(\"distribution\"))\n",
    "    \n",
    "    machines=treeNode(\"machines\")\n",
    "    machines.add_child(treeNode(\"dcmachines\"))\n",
    "    machines.add_child(treeNode(\"transformers\"))\n",
    "    machines.add_child(treeNode(\"alternators\"))\n",
    "    \n",
    "    \n",
    "    root.add_child(\"powersystems\")\n",
    "    root.add_child(\"machines\")\n",
    "\n",
    "buildTree()\n",
    "    \n",
    "    \n",
    "\n",
    "        \n",
    "        \n"
   ]
  },
  {
   "cell_type": "code",
   "execution_count": null,
   "id": "0d9bee39",
   "metadata": {},
   "outputs": [],
   "source": []
  }
 ],
 "metadata": {
  "kernelspec": {
   "display_name": "Python 3 (ipykernel)",
   "language": "python",
   "name": "python3"
  },
  "language_info": {
   "codemirror_mode": {
    "name": "ipython",
    "version": 3
   },
   "file_extension": ".py",
   "mimetype": "text/x-python",
   "name": "python",
   "nbconvert_exporter": "python",
   "pygments_lexer": "ipython3",
   "version": "3.9.7"
  }
 },
 "nbformat": 4,
 "nbformat_minor": 5
}
