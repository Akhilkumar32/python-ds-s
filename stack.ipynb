{
 "cells": [
  {
   "cell_type": "code",
   "execution_count": 13,
   "id": "7ac47151",
   "metadata": {},
   "outputs": [
    {
     "name": "stdout",
     "output_type": "stream",
     "text": [
      "3 pushed to stack\n",
      "2 pushed to stack\n",
      "0 pushed to stack\n",
      "1 pushed to stack\n",
      "1 pop to stack\n",
      "3\n",
      "False\n"
     ]
    }
   ],
   "source": [
    "class stack(object):\n",
    "    def __init__(self):\n",
    "        self.stack=[]\n",
    "        self.numberofitems=0\n",
    "    def isEmpty(self):\n",
    "        return self.stack==[]\n",
    "    def push(self,data):\n",
    "        self.stack.insert(self.numberofitems,data)\n",
    "        self.numberofitems+=1\n",
    "        return '{} pushed to stack'.format(data)\n",
    "    def pop(self):\n",
    "        self.numberofitems-=1\n",
    "        data=self.stack.pop(self.numberofitems)\n",
    "        return '{} pop to stack'.format(data)\n",
    "    def stacksize(self):\n",
    "        return len(self.stack)\n",
    "    \n",
    "    \n",
    "s=stack()\n",
    "print(s.push(3))\n",
    "print(s.push(2))\n",
    "print(s.push(0))\n",
    "print(s.push(1))\n",
    "\n",
    "\n",
    "print(s.pop())\n",
    "\n",
    "print(s.stacksize())\n",
    "print(s.isEmpty())"
   ]
  },
  {
   "cell_type": "code",
   "execution_count": null,
   "id": "68e2863a",
   "metadata": {},
   "outputs": [],
   "source": []
  }
 ],
 "metadata": {
  "kernelspec": {
   "display_name": "Python 3 (ipykernel)",
   "language": "python",
   "name": "python3"
  },
  "language_info": {
   "codemirror_mode": {
    "name": "ipython",
    "version": 3
   },
   "file_extension": ".py",
   "mimetype": "text/x-python",
   "name": "python",
   "nbconvert_exporter": "python",
   "pygments_lexer": "ipython3",
   "version": "3.9.7"
  }
 },
 "nbformat": 4,
 "nbformat_minor": 5
}
