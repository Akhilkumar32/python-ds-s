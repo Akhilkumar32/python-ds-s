{
 "cells": [
  {
   "cell_type": "code",
   "execution_count": 5,
   "id": "2c7fba29",
   "metadata": {},
   "outputs": [
    {
     "name": "stdout",
     "output_type": "stream",
     "text": [
      "3 added to queue\n",
      "2 added to queue\n",
      "0 added to queue\n",
      "2 added to queue\n",
      "3\n",
      "2\n",
      "2 size of queue\n",
      "False\n"
     ]
    }
   ],
   "source": [
    "class queue(object):\n",
    "    def __init__(self):\n",
    "        self.queue=[]\n",
    "        self.numberofitems=0\n",
    "    def isEmpty(self):\n",
    "        return self.queue==[]\n",
    "    def enqueue(self,data):\n",
    "        self.queue.insert(0,data)\n",
    "        return '{} added to queue'.format(data)\n",
    "    def dequeue(self):\n",
    "        return self.queue.pop()\n",
    "    def sizequeue(self):\n",
    "        return '{} size of queue'.format(len(self.queue))\n",
    "    \n",
    "    \n",
    "q=queue()\n",
    "print(q.enqueue(3))\n",
    "print(q.enqueue(2))\n",
    "print(q.enqueue(0))\n",
    "print(q.enqueue(2))\n",
    "\n",
    "\n",
    "print(q.dequeue())\n",
    "print(q.dequeue())\n",
    "\n",
    "print(q.sizequeue())\n",
    "print(q.isEmpty())\n"
   ]
  },
  {
   "cell_type": "code",
   "execution_count": null,
   "id": "ec66f224",
   "metadata": {},
   "outputs": [],
   "source": []
  }
 ],
 "metadata": {
  "kernelspec": {
   "display_name": "Python 3 (ipykernel)",
   "language": "python",
   "name": "python3"
  },
  "language_info": {
   "codemirror_mode": {
    "name": "ipython",
    "version": 3
   },
   "file_extension": ".py",
   "mimetype": "text/x-python",
   "name": "python",
   "nbconvert_exporter": "python",
   "pygments_lexer": "ipython3",
   "version": "3.9.7"
  }
 },
 "nbformat": 4,
 "nbformat_minor": 5
}
